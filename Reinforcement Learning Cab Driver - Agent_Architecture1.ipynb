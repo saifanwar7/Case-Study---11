{
 "cells": [
  {
   "cell_type": "markdown",
   "metadata": {},
   "source": [
    "### Cab-Driver Agent"
   ]
  },
  {
   "cell_type": "markdown",
   "metadata": {},
   "source": [
    "**Problem Statement:** SuperCabs is a leading app-based cab provider in a large Indian metro city.  In this highly competitive industry, retention of good cab drivers is a crucial business driver, and we believe that a sound RL-based system for assisting cab drivers can potentially retain and attract new cab drivers."
   ]
  },
  {
   "cell_type": "markdown",
   "metadata": {},
   "source": [
    "**Goal:** The goal of this project is to build an RL-based algorithm which can help cab drivers maximise their profits by improving their decision-making process on the field."
   ]
  },
  {
   "cell_type": "markdown",
   "metadata": {},
   "source": [
    "**Markov's Decision Process:** Taking long-term profit as the goal, a method is built based on reinforcement learning to optimize taxi driving strategies for profit maximization. This optimisation problem is formulated as a Markov Decision Process."
   ]
  },
  {
   "cell_type": "markdown",
   "metadata": {},
   "source": [
    "**Tasks:**\n",
    "- Create the environment:\n",
    "- Build an agent that learns to pick the best request using DQN"
   ]
  },
  {
   "cell_type": "code",
   "execution_count": 1,
   "metadata": {},
   "outputs": [],
   "source": [
    "# Importing libraries\n",
    "import numpy as np\n",
    "import random\n",
    "import math\n",
    "from collections import deque\n",
    "import collections\n",
    "import pickle\n",
    "import time\n",
    "\n",
    "# for building DQN model\n",
    "from tensorflow.keras import layers\n",
    "from tensorflow.keras import Sequential\n",
    "from tensorflow.keras.layers import Dense, Activation, Flatten\n",
    "from tensorflow.keras.optimizers import Adam\n",
    "\n",
    "# for plotting graphs\n",
    "import matplotlib.pyplot as plt\n",
    "\n",
    "# Import the environment\n",
    "from Env import CabDriver"
   ]
  },
  {
   "cell_type": "markdown",
   "metadata": {},
   "source": [
    "#### Defining Time Matrix"
   ]
  },
  {
   "cell_type": "code",
   "execution_count": 2,
   "metadata": {},
   "outputs": [
    {
     "data": {
      "text/plain": [
       "array([4., 4., 4., 4., 4., 4., 4., 4., 4., 4., 4., 4., 0., 0., 0., 0., 0.,\n",
       "       0., 0., 0., 0., 0., 0., 0.])"
      ]
     },
     "execution_count": 2,
     "metadata": {},
     "output_type": "execute_result"
    }
   ],
   "source": [
    "# Loading the time matrix provided\n",
    "Time_matrix = np.load(\"TM.npy\")\n",
    "Time_matrix[1,3,:,6]"
   ]
  },
  {
   "cell_type": "markdown",
   "metadata": {},
   "source": [
    "#### Tracking the state-action pairs for checking convergence\n"
   ]
  },
  {
   "cell_type": "code",
   "execution_count": 3,
   "metadata": {},
   "outputs": [
    {
     "name": "stdout",
     "output_type": "stream",
     "text": [
      "0\n"
     ]
    }
   ],
   "source": [
    "States_track = collections.defaultdict(dict)\n",
    "print(len(States_track))"
   ]
  },
  {
   "cell_type": "markdown",
   "metadata": {},
   "source": [
    "Initialising states to be tracked to build the model"
   ]
  },
  {
   "cell_type": "code",
   "execution_count": 4,
   "metadata": {},
   "outputs": [],
   "source": [
    "# Initialise states to be tracked\n",
    "def initialise_tracking_states():\n",
    "    sample_q_values = [((3, 4, 5), (0,2)), ((4, 2, 3), (1,4))]    \n",
    "    for q_values in sample_q_values:\n",
    "        state = q_values[0]\n",
    "        action = q_values[1]\n",
    "        States_track[state][action] = [] "
   ]
  },
  {
   "cell_type": "markdown",
   "metadata": {},
   "source": [
    "Creating function to save the model as pkl file using pickle"
   ]
  },
  {
   "cell_type": "code",
   "execution_count": 5,
   "metadata": {},
   "outputs": [],
   "source": [
    "#Defining a function to save the Q-dictionary as a pickle file\n",
    "def save_obj(obj, name ):\n",
    "    with open(name + '.pkl', 'wb') as f:\n",
    "        pickle.dump(obj, f, pickle.HIGHEST_PROTOCOL)"
   ]
  },
  {
   "cell_type": "markdown",
   "metadata": {},
   "source": [
    "### Agent Class\n",
    "\n",
    "If you are using this framework, you need to fill the following to complete the following code block:\n",
    "1. State and Action Size\n",
    "2. Hyperparameters\n",
    "3. Create a neural-network model in function 'build_model()'\n",
    "4. Define epsilon-greedy strategy in function 'get_action()'\n",
    "5. Complete the function 'append_sample()'. This function appends the recent experience tuple <state, action, reward, new-state> to the memory\n",
    "6. Complete the 'train_model()' function with following logic:\n",
    "   - If the memory size is greater than mini-batch size, you randomly sample experiences from memory as per the mini-batch size and do the following:\n",
    "      - Initialise your input and output batch for training the model\n",
    "      - Calculate the target Q value for each sample: reward + gamma*max(Q(s'a,))\n",
    "      - Get Q(s', a) values from the last trained model\n",
    "      - Update the input batch as your encoded state-action and output batch as your Q-values\n",
    "      - Then fit your DQN model using the updated input and output batch."
   ]
  },
  {
   "cell_type": "markdown",
   "metadata": {},
   "source": [
    "#### Defining class Agent:"
   ]
  },
  {
   "cell_type": "code",
   "execution_count": 6,
   "metadata": {},
   "outputs": [],
   "source": [
    "class DQNAgent:\n",
    "    def __init__(self, state_size, action_size):\n",
    "        # Define size of state and action\n",
    "        self.state_size = state_size\n",
    "        self.action_size = action_size\n",
    "\n",
    "        # Write here: Specify you hyper parameters for the DQN\n",
    "        self.discount_factor = 0.95\n",
    "        self.learning_rate = 0.002\n",
    "        self.epsilon_max = 1\n",
    "        self.epsilon = 1\n",
    "        self.epsilon_decay = 0.00025\n",
    "        self.epsilon_min = 0.00001\n",
    "\n",
    "        self.batch_size = 16\n",
    "        # create replay memory using deque\n",
    "        self.memory = deque(maxlen=2000)\n",
    "        \n",
    "        # Initialize the value of the states tracked\n",
    "        self.states_tracked = []\n",
    "        self.track_state = np.array(env.state_encod_arch1([2,4,0])).reshape(1, 36)\n",
    "\n",
    "        # create main model and target model\n",
    "        self.model = self.build_model()\n",
    "\n",
    "    # approximate Q function using Neural Network\n",
    "    def build_model(self):\n",
    "        model = Sequential()\n",
    "        # Write your code here: Add layers to your neural nets   \n",
    "        # hidden layers\n",
    "        model.add(Dense(16, input_dim=self.state_size, activation='relu',\n",
    "                        kernel_initializer='he_uniform'))\n",
    "        model.add(Dense(16, activation='relu', kernel_initializer='he_uniform'))\n",
    "\n",
    "        # the output layer: output is of size num_actions\n",
    "        model.add(Dense(self.action_size, activation='relu', kernel_initializer='he_uniform'))\n",
    "\n",
    "        model.compile(loss='mse', optimizer=Adam(learning_rate=self.learning_rate))\n",
    "        model.summary\n",
    "        return model\n",
    "\n",
    "    def get_action(self, state, action_space, possible_actions_index):\n",
    "        # Write your code here:\n",
    "        # get action from model using epsilon-greedy policy\n",
    "        # Decay in ε after we generate each sample from the environment\n",
    "        if np.random.rand() <= self.epsilon:\n",
    "            # explore: choose a random action from all possible actions\n",
    "            # in case of cartpole this will randomly choose an action between 0 and 1\n",
    "            index = random.randrange(len(possible_actions_index))\n",
    "            action_index = possible_actions_index[index]\n",
    "            action = action_space[action_index]\n",
    "            return action_index, action\n",
    "\n",
    "        else:\n",
    "            # choose the action with the highest q(s, a)\n",
    "            # the first index corresponds to the batch size, so\n",
    "            # reshape state to (1, state_size) so that the first index corresponds to the batch size\n",
    "\n",
    "            state = np.array(state).reshape(1, self.state_size)\n",
    "            q_value = self.model.predict(state)\n",
    "            #print(\"action picked from compile model = {}\".format(q_value))\n",
    "\n",
    "            return np.argmax(q_value[0]), action_space[np.argmax(q_value[0])]\n",
    "\n",
    "    def append_sample(self, state, action, reward, next_state):\n",
    "        # Write your code here:\n",
    "        # save sample <s,a,r,s'> to the replay memory\n",
    "        self.memory.append((state, action, reward, next_state))\n",
    "\n",
    "    def train_model(self):\n",
    "  \n",
    "        if len(self.memory) < self.batch_size:\n",
    "            return\n",
    "        \n",
    "        # Sample batch from the memory\n",
    "        mini_batch = random.sample(self.memory, self.batch_size)\n",
    "        update_output = np.zeros((self.batch_size, self.state_size))\n",
    "        update_input = np.zeros((self.batch_size, self.state_size))\n",
    "\n",
    "        actions, rewards = [], []\n",
    "       \n",
    "        \n",
    "        for i in range(self.batch_size):\n",
    "            \n",
    "            state, action, reward, next_state = mini_batch[i]\n",
    "            \n",
    "            actions.append(action)\n",
    "            rewards.append(reward)\n",
    "            \n",
    "            \n",
    "\n",
    "            update_input[i] = env.state_encod_arch1(state)\n",
    "            update_output[i] = env.state_encod_arch1(next_state)\n",
    "                \n",
    "        target = self.model.predict(update_input)\n",
    "        target_val = self.model.predict(update_output)\n",
    "        \n",
    "        # get your target Q-value on the basis of terminal state\n",
    "        for i in range(self.batch_size):\n",
    "            target[i][actions[i]] = rewards[i] + self.discount_factor * (np.amax(target_val[i]))\n",
    "\n",
    "        self.model.fit(update_input, target, batch_size=self.batch_size, epochs=1, verbose=0, use_multiprocessing=True, workers=8)           \n",
    "    \n",
    "    def store_q_values(self):\n",
    "        \"\"\" We are keeping track of q value for state [3,4,5] and action (0,2)\"\"\"\n",
    "        q_value = self.model.predict(self.track_state)\n",
    "        self.states_tracked.append(q_value[0][2])\n",
    "            \n",
    "    def save(self, name):\n",
    "        self.model.save(name)   "
   ]
  },
  {
   "cell_type": "markdown",
   "metadata": {},
   "source": [
    "#### Selecting episode of 5500 to train the RL model"
   ]
  },
  {
   "cell_type": "code",
   "execution_count": 7,
   "metadata": {},
   "outputs": [],
   "source": [
    "Episodes = 5500"
   ]
  },
  {
   "cell_type": "markdown",
   "metadata": {},
   "source": [
    "### DQN block"
   ]
  },
  {
   "cell_type": "code",
   "execution_count": 8,
   "metadata": {},
   "outputs": [
    {
     "name": "stdout",
     "output_type": "stream",
     "text": [
      "episode 0, reward -86.0, memory_length 173, epsilon 1.0, Time elapsed 21.0\n",
      "INFO:tensorflow:Assets written to: model.pkl\\assets\n",
      "Total time taken  21.34783124923706\n",
      "episode 50, reward -280.0, memory_length 2000, epsilon 0.9875779247158765, Time elapsed 862.0\n",
      "episode 100, reward -343.0, memory_length 2000, epsilon 0.9753101589292124, Time elapsed 860.0\n",
      "episode 150, reward 42.0, memory_length 2000, epsilon 0.9631947857766446, Time elapsed 885.0\n",
      "episode 200, reward -137.0, memory_length 2000, epsilon 0.951229912206469, Time elapsed 858.0\n",
      "episode 250, reward -200.0, memory_length 2000, epsilon 0.9394136686828477, Time elapsed 856.0\n",
      "episode 300, reward -243.0, memory_length 2000, epsilon 0.9277442088936896, Time elapsed 850.0\n",
      "episode 350, reward -42.0, memory_length 2000, epsilon 0.916219709462161, Time elapsed 846.0\n",
      "episode 400, reward -243.0, memory_length 2000, epsilon 0.9048383696617791, Time elapsed 840.0\n",
      "episode 450, reward 4.0, memory_length 2000, epsilon 0.8935984111350446, Time elapsed 845.0\n",
      "episode 500, reward -401.0, memory_length 2000, epsilon 0.8824980776155696, Time elapsed 826.0\n",
      "episode 550, reward -152.0, memory_length 2000, epsilon 0.8715356346536579, Time elapsed 816.0\n",
      "episode 600, reward -226.0, memory_length 2000, epsilon 0.8607093693452935, Time elapsed 813.0\n",
      "episode 650, reward 288.0, memory_length 2000, epsilon 0.8500175900644958, Time elapsed 802.0\n",
      "episode 700, reward -160.0, memory_length 2000, epsilon 0.8394586261989997, Time elapsed 808.0\n",
      "episode 750, reward -146.0, memory_length 2000, epsilon 0.8290308278892186, Time elapsed 806.0\n",
      "episode 800, reward -87.0, memory_length 2000, epsilon 0.8187325657704511, Time elapsed 826.0\n",
      "episode 850, reward -37.0, memory_length 2000, epsilon 0.8085622307182891, Time elapsed 796.0\n",
      "episode 900, reward 0.0, memory_length 2000, epsilon 0.7985182335971894, Time elapsed 795.0\n",
      "episode 950, reward -74.0, memory_length 2000, epsilon 0.7885990050121668, Time elapsed 788.0\n",
      "episode 1000, reward -437.0, memory_length 2000, epsilon 0.7788029950635742, Time elapsed 801.0\n",
      "INFO:tensorflow:Assets written to: model.pkl\\assets\n",
      "Total time taken  16600.826287269592\n",
      "episode 1050, reward 31.0, memory_length 2000, epsilon 0.7691286731049268, Time elapsed 808.0\n",
      "episode 1100, reward 111.0, memory_length 2000, epsilon 0.7595745275037362, Time elapsed 794.0\n",
      "episode 1150, reward -91.0, memory_length 2000, epsilon 0.7501390654053142, Time elapsed 790.0\n",
      "episode 1200, reward 227.0, memory_length 2000, epsilon 0.740820812499511, Time elapsed 806.0\n",
      "episode 1250, reward -195.0, memory_length 2000, epsilon 0.7316183127903523, Time elapsed 798.0\n",
      "episode 1300, reward -63.0, memory_length 2000, epsilon 0.7225301283685358, Time elapsed 780.0\n",
      "episode 1350, reward 114.0, memory_length 2000, epsilon 0.7135548391867553, Time elapsed 778.0\n",
      "episode 1400, reward 252.0, memory_length 2000, epsilon 0.7046910428378163, Time elapsed 790.0\n",
      "episode 1450, reward -447.0, memory_length 2000, epsilon 0.6959373543355052, Time elapsed 793.0\n",
      "episode 1500, reward -242.0, memory_length 2000, epsilon 0.6872924058981843, Time elapsed 772.0\n",
      "episode 1550, reward 197.0, memory_length 2000, epsilon 0.6787548467350718, Time elapsed 772.0\n",
      "episode 1600, reward -82.0, memory_length 2000, epsilon 0.6703233428351789, Time elapsed 789.0\n",
      "episode 1650, reward -7.0, memory_length 2000, epsilon 0.661996576758867, Time elapsed 775.0\n",
      "episode 1700, reward -213.0, memory_length 2000, epsilon 0.6537732474319959, Time elapsed 768.0\n",
      "episode 1750, reward -154.0, memory_length 2000, epsilon 0.6456520699426278, Time elapsed 754.0\n",
      "episode 1800, reward -73.0, memory_length 2000, epsilon 0.6376317753402571, Time elapsed 752.0\n",
      "episode 1850, reward 255.0, memory_length 2000, epsilon 0.6297111104375349, Time elapsed 749.0\n",
      "episode 1900, reward 0.0, memory_length 2000, epsilon 0.6218888376144553, Time elapsed 764.0\n",
      "episode 1950, reward -75.0, memory_length 2000, epsilon 0.6141637346249755, Time elapsed 765.0\n",
      "episode 2000, reward -35.0, memory_length 2000, epsilon 0.6065345944060363, Time elapsed 772.0\n",
      "INFO:tensorflow:Assets written to: model.pkl\\assets\n",
      "Total time taken  32169.81962442398\n",
      "episode 2050, reward -122.0, memory_length 2000, epsilon 0.5990002248889569, Time elapsed 766.0\n",
      "episode 2100, reward 198.0, memory_length 2000, epsilon 0.5915594488131715, Time elapsed 756.0\n",
      "episode 2150, reward -2.0, memory_length 2000, epsilon 0.5842111035422797, Time elapsed 759.0\n",
      "episode 2200, reward -28.0, memory_length 2000, epsilon 0.5769540408823828, Time elapsed 756.0\n",
      "episode 2250, reward 412.0, memory_length 2000, epsilon 0.5697871269026756, Time elapsed 752.0\n",
      "episode 2300, reward -162.0, memory_length 2000, epsilon 0.5627092417582676, Time elapsed 763.0\n",
      "episode 2350, reward 366.0, memory_length 2000, epsilon 0.5557192795152047, Time elapsed 750.0\n",
      "episode 2400, reward -208.0, memory_length 2000, epsilon 0.5488161479776655, Time elapsed 750.0\n",
      "episode 2450, reward -25.0, memory_length 2000, epsilon 0.5419987685173026, Time elapsed 759.0\n",
      "episode 2500, reward -42.0, memory_length 2000, epsilon 0.5352660759047051, Time elapsed 753.0\n",
      "episode 2550, reward -19.0, memory_length 2000, epsilon 0.5286170181429546, Time elapsed 759.0\n",
      "episode 2600, reward -316.0, memory_length 2000, epsilon 0.5220505563032484, Time elapsed 724.0\n",
      "episode 2650, reward 110.0, memory_length 2000, epsilon 0.5155656643625643, Time elapsed 756.0\n",
      "episode 2700, reward 170.0, memory_length 2000, epsilon 0.5091613290433431, Time elapsed 741.0\n",
      "episode 2750, reward -78.0, memory_length 2000, epsilon 0.5028365496551612, Time elapsed 758.0\n",
      "episode 2800, reward 263.0, memory_length 2000, epsilon 0.4965903379383716, Time elapsed 732.0\n",
      "episode 2850, reward -60.0, memory_length 2000, epsilon 0.4904217179096854, Time elapsed 744.0\n",
      "episode 2900, reward -85.0, memory_length 2000, epsilon 0.4843297257096729, Time elapsed 720.0\n",
      "episode 2950, reward 72.0, memory_length 2000, epsilon 0.4783134094521588, Time elapsed 728.0\n",
      "episode 3000, reward 47.0, memory_length 2000, epsilon 0.4723718290754873, Time elapsed 724.0\n",
      "INFO:tensorflow:Assets written to: model.pkl\\assets\n",
      "Total time taken  47120.57252573967\n",
      "episode 3050, reward 9.0, memory_length 2000, epsilon 0.4665040561956365, Time elapsed 706.0\n",
      "episode 3100, reward 292.0, memory_length 2000, epsilon 0.46070917396115585, Time elapsed 727.0\n",
      "episode 3150, reward -46.0, memory_length 2000, epsilon 0.4549862769099064, Time elapsed 718.0\n",
      "episode 3200, reward 207.0, memory_length 2000, epsilon 0.44933447082758043, Time elapsed 722.0\n",
      "episode 3250, reward -64.0, memory_length 2000, epsilon 0.4437528726079791, Time elapsed 728.0\n",
      "episode 3300, reward -180.0, memory_length 2000, epsilon 0.4382406101150246, Time elapsed 732.0\n",
      "episode 3350, reward -52.0, memory_length 2000, epsilon 0.4327968220464877, Time elapsed 726.0\n",
      "episode 3400, reward 253.0, memory_length 2000, epsilon 0.42742065779940724, Time elapsed 734.0\n",
      "episode 3450, reward 25.0, memory_length 2000, epsilon 0.4221112773371816, Time elapsed 705.0\n",
      "episode 3500, reward 326.0, memory_length 2000, epsilon 0.41686785105831164, Time elapsed 713.0\n",
      "episode 3550, reward -255.0, memory_length 2000, epsilon 0.41168955966677345, Time elapsed 731.0\n",
      "episode 3600, reward 264.0, memory_length 2000, epsilon 0.40657559404400173, Time elapsed 732.0\n",
      "episode 3650, reward -15.0, memory_length 2000, epsilon 0.40152515512246356, Time elapsed 713.0\n",
      "episode 3700, reward -14.0, memory_length 2000, epsilon 0.3965374537608021, Time elapsed 711.0\n",
      "episode 3750, reward 9.0, memory_length 2000, epsilon 0.39161171062053224, Time elapsed 707.0\n",
      "episode 3800, reward 70.0, memory_length 2000, epsilon 0.3867471560442667, Time elapsed 686.0\n",
      "episode 3850, reward -9.0, memory_length 2000, epsilon 0.38194302993545587, Time elapsed 699.0\n",
      "episode 3900, reward -51.0, memory_length 2000, epsilon 0.37719858163962133, Time elapsed 709.0\n",
      "episode 3950, reward -153.0, memory_length 2000, epsilon 0.372513069827064, Time elapsed 697.0\n",
      "episode 4000, reward 6.0, memory_length 2000, epsilon 0.36788576237703063, Time elapsed 704.0\n",
      "INFO:tensorflow:Assets written to: model.pkl\\assets\n",
      "Total time taken  61420.17517900467\n",
      "episode 4050, reward 70.0, memory_length 2000, epsilon 0.3633159362633177, Time elapsed 705.0\n"
     ]
    },
    {
     "name": "stdout",
     "output_type": "stream",
     "text": [
      "episode 4100, reward 110.0, memory_length 2000, epsilon 0.3588028774412976, Time elapsed 711.0\n",
      "episode 4150, reward 49.0, memory_length 2000, epsilon 0.3543458807363474, Time elapsed 728.0\n",
      "episode 4200, reward 6.0, memory_length 2000, epsilon 0.3499442497336642, Time elapsed 704.0\n",
      "episode 4250, reward -189.0, memory_length 2000, epsilon 0.3455972966694488, Time elapsed 711.0\n",
      "episode 4300, reward 186.0, memory_length 2000, epsilon 0.3413043423234407, Time elapsed 714.0\n",
      "episode 4350, reward 328.0, memory_length 2000, epsilon 0.33706471591278936, Time elapsed 701.0\n",
      "episode 4400, reward -442.0, memory_length 2000, epsilon 0.3328777549872426, Time elapsed 704.0\n",
      "episode 4450, reward -51.0, memory_length 2000, epsilon 0.32874280532563727, Time elapsed 722.0\n",
      "episode 4500, reward 1.0, memory_length 2000, epsilon 0.32465922083367615, Time elapsed 719.0\n",
      "episode 4550, reward 278.0, memory_length 2000, epsilon 0.3206263634429743, Time elapsed 721.0\n",
      "episode 4600, reward 108.0, memory_length 2000, epsilon 0.3166436030113594, Time elapsed 738.0\n",
      "episode 4650, reward 94.0, memory_length 2000, epsilon 0.31271031722441117, Time elapsed 733.0\n",
      "episode 4700, reward 148.0, memory_length 2000, epsilon 0.308825891498223, Time elapsed 719.0\n",
      "episode 4750, reward 8.0, memory_length 2000, epsilon 0.3049897188833722, Time elapsed 736.0\n",
      "episode 4800, reward -44.0, memory_length 2000, epsilon 0.30120119997008304, Time elapsed 735.0\n",
      "episode 4850, reward 195.0, memory_length 2000, epsilon 0.29745974279456733, Time elapsed 731.0\n",
      "episode 4900, reward 207.0, memory_length 2000, epsilon 0.2937647627465296, Time elapsed 734.0\n",
      "episode 4950, reward 337.0, memory_length 2000, epsilon 0.29011568247781966, Time elapsed 740.0\n",
      "episode 5000, reward -328.0, memory_length 2000, epsilon 0.2865119318122215, Time elapsed 748.0\n",
      "INFO:tensorflow:Assets written to: model.pkl\\assets\n",
      "Total time taken  75872.46613144875\n",
      "episode 5050, reward -99.0, memory_length 2000, epsilon 0.28295294765636175, Time elapsed 744.0\n",
      "episode 5100, reward 149.0, memory_length 2000, epsilon 0.2794381739117251, Time elapsed 736.0\n",
      "episode 5150, reward 202.0, memory_length 2000, epsilon 0.2759670613877633, Time elapsed 736.0\n",
      "episode 5200, reward -135.0, memory_length 2000, epsilon 0.2725390677160823, Time elapsed 733.0\n",
      "episode 5250, reward -48.0, memory_length 2000, epsilon 0.26915365726569657, Time elapsed 740.0\n",
      "episode 5300, reward 321.0, memory_length 2000, epsilon 0.26581030105933573, Time elapsed 738.0\n",
      "episode 5350, reward 251.0, memory_length 2000, epsilon 0.26250847669079025, Time elapsed 723.0\n",
      "episode 5400, reward 73.0, memory_length 2000, epsilon 0.25924766824328505, Time elapsed 727.0\n",
      "episode 5450, reward 57.0, memory_length 2000, epsilon 0.25602736620886596, Time elapsed 742.0\n"
     ]
    }
   ],
   "source": [
    "start_time = time.time()\n",
    "last_end_time = time.time()\n",
    "rewards_per_episode, episodes, avg_rewards_per_episode = [], [], []\n",
    "\n",
    "env = CabDriver()\n",
    "\n",
    "agent = DQNAgent(action_size=len(env.action_space), state_size=len(env.state_encod_arch1(\n",
    "    env.state_init)))\n",
    "\n",
    "for episode in range(Episodes):\n",
    "\n",
    "    # Write code here\n",
    "    # Call the environment\n",
    "    env = CabDriver()\n",
    "    score = 0\n",
    "    # Call all the initialised variables of the environment\n",
    "    action_space, state_space, state = env.reset()\n",
    "\n",
    "    terminal_state = False\n",
    "    t = 0\n",
    "    count = 1\n",
    "    while not terminal_state:\n",
    "        #print(\"count = {}\".format(count))\n",
    "        count += 1\n",
    "        # Write your code here\n",
    "        # 1. Pick epsilon-greedy action from possible actions for the current state\n",
    "        possible_actions_index, actions = env.requests(state)\n",
    "        action_index, action = agent.get_action(env.state_encod_arch1(state), env.action_space, possible_actions_index)\n",
    "        # 2. Evaluate your reward and next state\n",
    "        next_state, wait_time, transit_time, ride_time = env.next_state_func(state, action,\n",
    "                                                                             Time_matrix)\n",
    "        reward = env.reward_func(state, action, Time_matrix)\n",
    "        # 3. Append the experience to the memory\n",
    "        agent.append_sample(env.state_encod_arch1(state), action_index,\n",
    "                            reward, env.state_encod_arch1(next_state))\n",
    "        # 4. Train the model by calling function agent.train_model\n",
    "        agent.train_model()\n",
    "        # 5. Keep a track of rewards, Q-values, loss\n",
    "        score += reward\n",
    "        state = next_state\n",
    "        t += wait_time + transit_time + ride_time\n",
    "        \n",
    "        #  Do we need a logic to make sure that total time never goes more than 30 days. Which\n",
    "        #  requires last ride to be less than the time left\n",
    "        #  OR we not very hard strict with 30 days, driver can even work extra few hour just\n",
    "        #  because of last ride\n",
    "        if t >= 24 * 30:\n",
    "            terminal_state = True\n",
    "\n",
    "    # store total reward obtained in this episode\n",
    "    rewards_per_episode.append(score)\n",
    "    episodes.append(episode)\n",
    "\n",
    "    # epsilon decay\n",
    "    if agent.epsilon > agent.epsilon_min:\n",
    "        agent.epsilon = agent.epsilon_min + (agent.epsilon_max - agent.epsilon_min) * np.exp(-agent.epsilon_decay*episode)\n",
    "\n",
    "    # every 50th episode:\n",
    "    if episode % 50 == 0:\n",
    "        print(\"episode {0}, reward {1}, memory_length {2}, epsilon {3}, Time elapsed {4}\".format(episode,\n",
    "                                                                           score,\n",
    "                                                                           len(agent.memory),\n",
    "                                                                           agent.epsilon, round(time.time()-last_end_time,0)))\n",
    "        last_end_time = time.time()\n",
    "    # every few episodes:\n",
    "    if episode % 10 == 0:\n",
    "        # store q-values of some prespecified state-action pairs\n",
    "        agent.store_q_values()\n",
    "    if episode % 1000 == 0:\n",
    "        save_obj(agent,name='Final_model')\n",
    "        elapsed_time = time.time() - start_time\n",
    "        print('Total time taken ',elapsed_time)\n",
    "### Keep a track of Q-values, loss"
   ]
  },
  {
   "cell_type": "code",
   "execution_count": 9,
   "metadata": {},
   "outputs": [
    {
     "name": "stdout",
     "output_type": "stream",
     "text": [
      "Total time taken  83221.3116543293\n"
     ]
    }
   ],
   "source": [
    "elapsed_time = time.time() - start_time\n",
    "print('Total time taken ',elapsed_time)"
   ]
  },
  {
   "cell_type": "markdown",
   "metadata": {},
   "source": [
    "### Tracking Convergence"
   ]
  },
  {
   "cell_type": "markdown",
   "metadata": {},
   "source": [
    "#### Plotting Total Rewards:"
   ]
  },
  {
   "cell_type": "code",
   "execution_count": 10,
   "metadata": {},
   "outputs": [
    {
     "data": {
      "image/png": "[encoded data removed]",
      "text/plain": [
       "<Figure size 432x288 with 1 Axes>"
      ]
     },
     "metadata": {
      "needs_background": "light"
     },
     "output_type": "display_data"
    }
   ],
   "source": [
    "# Check Convergence by tracking total rewards per episode vs episode number\n",
    "plt.plot(list(range(len(rewards_per_episode))), rewards_per_episode)\n",
    "plt.ylabel(\"total rewards\")\n",
    "plt.show()"
   ]
  },
  {
   "cell_type": "code",
   "execution_count": 11,
   "metadata": {
    "scrolled": true
   },
   "outputs": [
    {
     "name": "stdout",
     "output_type": "stream",
     "text": [
      "[-185.44, -164.13, -147.83, -122.06, -145.47, -147.55, -160.34, -122.04, -115.67, -109.01, -104.37, -116.51, -48.39, -68.74, -91.91, -75.41, -18.53, -13.86, 12.84, -30.15, -10.83, 38.86, -9.65, 28.79, -8.87, 4.76, 31.44, 40.47, 18.54, 75.22, 52.31, 104.31, 117.14, 42.83, 80.29, 57.62, 85.97, 68.26, 40.92, 68.76, 36.47, 69.89, 94.75, 88.93, 175.18, 112.46, 37.37, 4.5, -34.78, 146.58, 133.09, 226.08, 153.78, 128.18, 186.36]\n"
     ]
    }
   ],
   "source": [
    "# Average reward per 100 episode\n",
    "avg_rewards = []\n",
    "episodes = len(rewards_per_episode)\n",
    "index = 0\n",
    "track_total_reward = 0\n",
    "for episode_number in range(episodes):\n",
    "    if index != 100:\n",
    "        track_total_reward += rewards_per_episode[episode_number]\n",
    "        index += 1\n",
    "    else:\n",
    "        avg_rewards.append(track_total_reward/index)\n",
    "        track_total_reward = rewards_per_episode[episode_number]\n",
    "        index = 1\n",
    "\n",
    "avg_rewards.append(track_total_reward/index)\n",
    "        \n",
    "    \n",
    "print(avg_rewards)"
   ]
  },
  {
   "cell_type": "markdown",
   "metadata": {},
   "source": [
    "#### Plotting Average rewards:"
   ]
  },
  {
   "cell_type": "code",
   "execution_count": 12,
   "metadata": {},
   "outputs": [
    {
     "data": {
      "image/png": "[encoded data removed]",
      "text/plain": [
       "<Figure size 432x288 with 1 Axes>"
      ]
     },
     "metadata": {
      "needs_background": "light"
     },
     "output_type": "display_data"
    }
   ],
   "source": [
    "## Check Convergence by tracking average rewards per episode vs episode number\n",
    "plt.plot(list(range(len(avg_rewards))), avg_rewards)\n",
    "plt.ylabel(\"avg rewards\")\n",
    "plt.show()"
   ]
  },
  {
   "cell_type": "markdown",
   "metadata": {},
   "source": [
    "#### Plotting Q Value for the sample state:"
   ]
  },
  {
   "cell_type": "code",
   "execution_count": 16,
   "metadata": {},
   "outputs": [
    {
     "data": {
      "image/png": "[encoded data removed]",
      "text/plain": [
       "<Figure size 1296x576 with 1 Axes>"
      ]
     },
     "metadata": {
      "needs_background": "light"
     },
     "output_type": "display_data"
    }
   ],
   "source": [
    "plt.figure(0, figsize=(18,8))\n",
    "plt.title('Q_value for state [3,4,5];  Action (0,2)')\n",
    "xaxis = np.asarray(range(0, len(agent.states_tracked)))\n",
    "plt.semilogy(xaxis,np.asarray(agent.states_tracked))\n",
    "plt.show()"
   ]
  },
  {
   "cell_type": "markdown",
   "metadata": {},
   "source": [
    "#### Epsilon-decay sample function"
   ]
  },
  {
   "cell_type": "markdown",
   "metadata": {},
   "source": [
    "<div class=\"alert alert-block alert-info\">\n",
    "Try building a similar epsilon-decay function for your model.\n",
    "</div>"
   ]
  },
  {
   "cell_type": "code",
   "execution_count": 19,
   "metadata": {},
   "outputs": [],
   "source": [
    "time = np.arange(0,5500)\n",
    "epsilon = []\n",
    "for i in range(0,5500):\n",
    "    epsilon.append(0 + (1 - 0) * np.exp(-0.00025*i))"
   ]
  },
  {
   "cell_type": "code",
   "execution_count": 20,
   "metadata": {
    "scrolled": false
   },
   "outputs": [
    {
     "data": {
      "image/png": "[encoded data removed]",
      "text/plain": [
       "<Figure size 432x288 with 1 Axes>"
      ]
     },
     "metadata": {
      "needs_background": "light"
     },
     "output_type": "display_data"
    }
   ],
   "source": [
    "plt.plot(time, epsilon)\n",
    "plt.show()"
   ]
  },
  {
   "cell_type": "markdown",
   "metadata": {},
   "source": [
    "**Summary:** So we were able to create the environment and an RL agent that learns to choose the best request."
   ]
  }
 ],
 "metadata": {
  "kernelspec": {
   "display_name": "tf_gpu",
   "language": "python",
   "name": "tf_gpu"
  },
  "language_info": {
   "codemirror_mode": {
    "name": "ipython",
    "version": 3
   },
   "file_extension": ".py",
   "mimetype": "text/x-python",
   "name": "python",
   "nbconvert_exporter": "python",
   "pygments_lexer": "ipython3",
   "version": "3.9.7"
  }
 },
 "nbformat": 4,
 "nbformat_minor": 4
}
